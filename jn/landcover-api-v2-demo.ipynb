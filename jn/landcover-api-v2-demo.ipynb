{
 "cells": [
  {
   "cell_type": "code",
   "execution_count": null,
   "metadata": {},
   "outputs": [],
   "source": [
    "'''\n",
    ". activate MS_landcover\n",
    "conda install -c conda-forge pyproj\n",
    "conda install -c conda-forge geopy\n",
    "pip install reverse_geocoder\n",
    "'''"
   ]
  },
  {
   "cell_type": "markdown",
   "metadata": {},
   "source": [
    "## Land cover mapping API (v2) demo\n",
    "\n",
    "This notebook demonstrates v2 of our public Land Cover Mapping API, which processes images from the National Agricultural Imaging Program and classifies individual pixels as water, forest, field, or built structures.  This version of the API does not require you to upload an image; rather you specify a geographic location and retrieve cached results, computed on the most recent NAIP data. For more information, see http://aka.ms/landcovermapping.\n",
    "\n",
    "The API is hosted via the [AI for Earth API Platform](https://github.com/Microsoft/AIforEarth-API-Development).\n",
    "\n",
    "[Download the notebook](landcover-api-v2-demo.ipynb) (.ipynb)."
   ]
  },
  {
   "cell_type": "markdown",
   "metadata": {},
   "source": [
    "### Imports and constants"
   ]
  },
  {
   "cell_type": "code",
   "execution_count": 1,
   "metadata": {},
   "outputs": [],
   "source": [
    "import math\n",
    "import requests\n",
    "import io\n",
    "import base64\n",
    "import matplotlib.pyplot as plt\n",
    "from pyproj import Proj, transform\n",
    "from imageio import imread"
   ]
  },
  {
   "cell_type": "code",
   "execution_count": 3,
   "metadata": {},
   "outputs": [
    {
     "data": {
      "application/javascript": [
       "IPython.notebook.set_autosave_interval(0)"
      ]
     },
     "metadata": {},
     "output_type": "display_data"
    },
    {
     "name": "stdout",
     "output_type": "stream",
     "text": [
      "Autosave disabled\n",
      "Health check OK\n"
     ]
    }
   ],
   "source": [
    "from geopy.geocoders import Nominatim\n",
    "import reverse_geocoder as rg \n",
    "import random\n",
    "\n",
    "%autosave 0\n",
    "\n",
    "#const\n",
    "key='2059b51b23b14f42b4c7b34e62af07cb'\n",
    "host_url= 'https://aiforearth.azure-api.net/landcover'\n",
    "base_url = host_url + '/v2'\n",
    "health_url = base_url + \"/\"\n",
    "\n",
    "api_header = {'Ocp-Apim-Subscription-Key': key, 'Content-Type':'application/json'}\n",
    "\n",
    "patch_size = 500\n",
    "weights = [0.25, 0.25, 0.25, 0.25]\n",
    "\n",
    "print(str(requests.get(health_url, headers=api_header).text))"
   ]
  },
  {
   "cell_type": "markdown",
   "metadata": {},
   "source": [
    "### Functions"
   ]
  },
  {
   "cell_type": "code",
   "execution_count": 4,
   "metadata": {},
   "outputs": [],
   "source": [
    "def get_location_from_address(address):\n",
    "    \n",
    "    geolocator = Nominatim(user_agent=\"landcover\")\n",
    "    location = geolocator.geocode(address)\n",
    "    print(location.address)\n",
    "    return location.latitude, location.longitude\n",
    "\n",
    "def get_random_location_in_USA():\n",
    "    \n",
    "    # US points\n",
    "    NORTHERNMOST = 40.\n",
    "    SOUTHERNMOST = 30.\n",
    "    EASTERNMOST = -90.\n",
    "    WESTERNMOST = -100.    \n",
    "    country_code = None\n",
    "    \n",
    "    # Pick random coordinates in this box until one lands in the US\n",
    "    while country_code != 'US':\n",
    "        lat = round(random.uniform(SOUTHERNMOST, NORTHERNMOST), 6)\n",
    "        lon = round(random.uniform(EASTERNMOST, WESTERNMOST), 6)\n",
    "        results = get_location_details(lat, lon)\n",
    "        country_code = results['cc']\n",
    "        \n",
    "    print_location_details(results)\n",
    "\n",
    "    return lat, lon\n",
    "\n",
    "def get_location_details(lat, lon):\n",
    "    \n",
    "    results = rg.search((lat,lon))[0]\n",
    "    country_code = results['cc']\n",
    "    return results\n",
    "\n",
    "def print_location_details(results):\n",
    "    \n",
    "    print(\"Location details:\")\n",
    "    print(results['name'])\n",
    "    print(results['admin1'])\n",
    "    print(results['admin2'])\n",
    "    print(results['cc'])\n",
    "     \n",
    "def get_projected(lat, lng):\n",
    "    \n",
    "    P3857 = Proj(init='epsg:3857', preserve_units = True)\n",
    "    P4326 = Proj(init='epsg:4326')\n",
    "    x,y= transform(P4326, P3857, lng, lat)\n",
    "    \n",
    "    return x, y   \n",
    "\n",
    "def get_unprojected(x, y):\n",
    "    \n",
    "    P3857 = Proj(init='epsg:3857', preserve_units = True)\n",
    "    P4326 = Proj(init='epsg:4326')\n",
    "\n",
    "    \n",
    "    lat,lng = transform(P3857,P4326,x,y)\n",
    "    \n",
    "    return lng, lat\n",
    "\n",
    "def get_polygon(latitude, longitude):\n",
    "    \n",
    "    latlonProjected = get_projected(latitude, longitude)\n",
    "    x = latlonProjected[0];\n",
    "    y = latlonProjected[1];\n",
    "    \n",
    "    top = y + patch_size/2;\n",
    "    bottom = y - patch_size/2;\n",
    "    left = x - patch_size/2;\n",
    "    right = x + patch_size/2;\n",
    "\n",
    "    top = int(round(top));\n",
    "    bottom = int(round(bottom));\n",
    "    left = int(round(left));\n",
    "    right = int(round(right));\n",
    "    \n",
    "    topleft = get_unprojected(left, top);\n",
    "    bottomright = get_unprojected(right, bottom);\n",
    "                \n",
    "    return( [\n",
    "            [topleft[0], topleft[1]],\n",
    "            [topleft[0], bottomright[1]] ,\n",
    "            [bottomright[0], bottomright[1]] ,\n",
    "            [bottomright[0], topleft[1]]\n",
    "           ] )\n",
    "\n",
    "def get_extent_values(polygon):\n",
    "    \n",
    "    topleft = [polygon[0][0], polygon[0][1]]\n",
    "    topleftProjected = get_projected(topleft[0], topleft[1])\n",
    "    bottomright = [polygon[2][0], polygon[2][1]]\n",
    "    bottomrightProjected = get_projected(bottomright[0], bottomright[1])\n",
    "    \n",
    "    xmax =  bottomrightProjected[0]\n",
    "    xmin =  topleftProjected[0]\n",
    "    ymax =  topleftProjected[1]\n",
    "    ymin =  bottomrightProjected[1]\n",
    "    \n",
    "    return {\"xmax\": xmax, \"xmin\" : xmin, \"ymax\" :ymax, \"ymin\": ymin }\n",
    "    \n",
    "def get_input_naip_by_extent(extent):  \n",
    "    \n",
    "    r = requests.post(base_url + \"/tilebyextent\", json=extent, headers=api_header)    \n",
    "    input_naip = imread(io.BytesIO(base64.b64decode(r.json()['input_naip'])))\n",
    "    return input_naip\n",
    "\n",
    "def predict_patch_by_extent(extent):\n",
    "    \n",
    "    r = requests.post(base_url + \"/classifybyextent\", json=extent, headers=api_header).json()\n",
    "    output_image = imread(io.BytesIO(base64.b64decode(r['output_hard'])))\n",
    "    \n",
    "    return output_image\n",
    "\n",
    "def get_tile(latitude, longitude):\n",
    "        \n",
    "    request_data = {\n",
    "                    'lat': latitude, \n",
    "                    'lon': longitude, \n",
    "                    'patchSize':patch_size, \n",
    "                    'latestWkid': 3857, \n",
    "                   }\n",
    "    \n",
    "    r = requests.post(base_url + '/tile', json=request_data, headers=api_header)\n",
    "    input_naip = imread(io.BytesIO(base64.b64decode(r.json()['input_naip'])))\n",
    "    \n",
    "    return input_naip\n",
    "    \n",
    "def predict_patch_by_latlong(latitude, longitude):\n",
    "        \n",
    "    request_data = {\n",
    "                    'lat': latitude, \n",
    "                    'lon': longitude, \n",
    "                    'patchSize':patch_size, \n",
    "                    'latestWkid': 3857, \n",
    "                    'weights': weights\n",
    "                   }\n",
    "    \n",
    "    r = requests.post(base_url + \"/classify\", json=request_data, headers=api_header)\n",
    "    \n",
    "    output_image = imread(io.BytesIO(base64.b64decode(r.json()['output_hard'])))\n",
    "    \n",
    "    return output_image\n",
    "\n",
    "def plot_image(image):\n",
    "    \n",
    "    plt.figure(figsize=(8,8))\n",
    "    imgplot=plt.imshow(image, aspect='auto')\n",
    "    plt.show()    "
   ]
  },
  {
   "cell_type": "markdown",
   "metadata": {},
   "source": [
    "## Specify target location by address"
   ]
  },
  {
   "cell_type": "code",
   "execution_count": 27,
   "metadata": {},
   "outputs": [
    {
     "name": "stdout",
     "output_type": "stream",
     "text": [
      "Microsoft Mixer, Northeast 40th Street, Microsoft West Campus, Redmond, King County, Washington, 98052, United States of America\n"
     ]
    }
   ],
   "source": [
    "# Get latitude and longitude for a US address location\n",
    "address = '15255 NE 40th St, Redmond, WA 98052'\n",
    "# address = '6168 Dolan Ct, Fort Collins, CO'\n",
    "\n",
    "latitude,longitude = get_location_from_address(str(address))"
   ]
  },
  {
   "cell_type": "markdown",
   "metadata": {},
   "source": [
    "## ...or choose a random US location"
   ]
  },
  {
   "cell_type": "code",
   "execution_count": 28,
   "metadata": {},
   "outputs": [],
   "source": [
    "# latitude,longitude = get_random_location_in_USA()"
   ]
  },
  {
   "cell_type": "markdown",
   "metadata": {},
   "source": [
    "### Retrieve and display source image (using lat/lon)"
   ]
  },
  {
   "cell_type": "code",
   "execution_count": null,
   "metadata": {},
   "outputs": [
    {
     "name": "stdout",
     "output_type": "stream",
     "text": [
      "Retrieving input image from API...\n"
     ]
    }
   ],
   "source": [
    "print(\"Retrieving input image from API...\")\n",
    "image = get_tile(latitude, longitude)\n",
    "                                \n",
    "print(\"\\nPlotting image...\")\n",
    "plot_image(image)"
   ]
  },
  {
   "cell_type": "markdown",
   "metadata": {},
   "source": [
    "### Retrieve and display results (using lat/lon)"
   ]
  },
  {
   "cell_type": "code",
   "execution_count": null,
   "metadata": {
    "scrolled": false
   },
   "outputs": [],
   "source": [
    "print(\"Retrieving output image from API...\")\n",
    "output_image = predict_patch_by_latlong(latitude, longitude)\n",
    "\n",
    "print(\"\\nPlotting image...\")\n",
    "plot_image(output_image)"
   ]
  },
  {
   "cell_type": "markdown",
   "metadata": {},
   "source": [
    "### Retrieve and display source image (using extent values)"
   ]
  },
  {
   "cell_type": "code",
   "execution_count": null,
   "metadata": {},
   "outputs": [],
   "source": [
    "polygon = get_polygon(latitude,longitude)\n",
    "     \n",
    "values = get_extent_values(polygon)\n",
    "\n",
    "extent = {\n",
    "    \"extent\": {\n",
    "    \"xmax\": values[\"xmax\"],\n",
    "    \"xmin\": values[\"xmin\"],\n",
    "    \"ymax\": values[\"ymax\"],\n",
    "    \"ymin\": values[\"ymin\"],\n",
    "    \"spatialReference\": {\n",
    "        \"latestWkid\": 3857\n",
    "     },\n",
    "    }\n",
    "}\n",
    "\n",
    "print(\"Retrieving input image from API...\")\n",
    "image = get_input_naip_by_extent(extent)\n",
    "                                \n",
    "print(\"\\nPlotting image...\")                              \n",
    "plot_image(image)"
   ]
  },
  {
   "cell_type": "markdown",
   "metadata": {},
   "source": [
    "### Retrieve and display results (using extent values)"
   ]
  },
  {
   "cell_type": "code",
   "execution_count": null,
   "metadata": {
    "scrolled": false
   },
   "outputs": [],
   "source": [
    "print(\"Retrieving output image from API...\")\n",
    "    \n",
    "polygon = get_polygon(latitude,longitude)\n",
    "     \n",
    "values = get_extent_values(polygon)\n",
    "\n",
    "extent = {\n",
    "    \"extent\": {\n",
    "    \"xmax\": values[\"xmax\"],\n",
    "    \"xmin\": values[\"xmin\"],\n",
    "    \"ymax\": values[\"ymax\"],\n",
    "    \"ymin\": values[\"ymin\"],\n",
    "    \"spatialReference\": {\n",
    "        \"latestWkid\": 3857\n",
    "            }\n",
    "    },\n",
    "    \"weights\": weights,\n",
    "}\n",
    "    \n",
    "output_image = predict_patch_by_extent(extent)\n",
    "\n",
    "print(\"\\nPlotting image...\")\n",
    "\n",
    "plot_image(output_image)"
   ]
  },
  {
   "cell_type": "code",
   "execution_count": null,
   "metadata": {},
   "outputs": [],
   "source": [
    "# try more weight on roads\n",
    "weights = [0.25, 0.15, 0.15, 0.45]\n",
    "print(\"Retrieving output image from API...\")\n",
    "    \n",
    "polygon = get_polygon(latitude,longitude)\n",
    "     \n",
    "values = get_extent_values(polygon)\n",
    "\n",
    "extent = {\n",
    "    \"extent\": {\n",
    "    \"xmax\": values[\"xmax\"],\n",
    "    \"xmin\": values[\"xmin\"],\n",
    "    \"ymax\": values[\"ymax\"],\n",
    "    \"ymin\": values[\"ymin\"],\n",
    "    \"spatialReference\": {\n",
    "        \"latestWkid\": 3857\n",
    "            }\n",
    "    },\n",
    "    \"weights\": weights,\n",
    "}\n",
    "    \n",
    "output_image = predict_patch_by_extent(extent)\n",
    "\n",
    "print(\"\\nPlotting image...\")\n",
    "\n",
    "plot_image(output_image)"
   ]
  },
  {
   "cell_type": "code",
   "execution_count": null,
   "metadata": {},
   "outputs": [],
   "source": []
  }
 ],
 "metadata": {
  "kernelspec": {
   "display_name": "Python [conda env:MS_landcover] *",
   "language": "python",
   "name": "conda-env-MS_landcover-py"
  },
  "language_info": {
   "codemirror_mode": {
    "name": "ipython",
    "version": 3
   },
   "file_extension": ".py",
   "mimetype": "text/x-python",
   "name": "python",
   "nbconvert_exporter": "python",
   "pygments_lexer": "ipython3",
   "version": "3.7.8"
  },
  "toc": {
   "base_numbering": 1,
   "nav_menu": {},
   "number_sections": true,
   "sideBar": true,
   "skip_h1_title": false,
   "title_cell": "Table of Contents",
   "title_sidebar": "Contents",
   "toc_cell": false,
   "toc_position": {},
   "toc_section_display": true,
   "toc_window_display": false
  },
  "varInspector": {
   "cols": {
    "lenName": 16,
    "lenType": 16,
    "lenVar": 40
   },
   "kernels_config": {
    "python": {
     "delete_cmd_postfix": "",
     "delete_cmd_prefix": "del ",
     "library": "var_list.py",
     "varRefreshCmd": "print(var_dic_list())"
    },
    "r": {
     "delete_cmd_postfix": ") ",
     "delete_cmd_prefix": "rm(",
     "library": "var_list.r",
     "varRefreshCmd": "cat(var_dic_list()) "
    }
   },
   "types_to_exclude": [
    "module",
    "function",
    "builtin_function_or_method",
    "instance",
    "_Feature"
   ],
   "window_display": false
  }
 },
 "nbformat": 4,
 "nbformat_minor": 2
}
